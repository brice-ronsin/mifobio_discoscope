{
 "cells": [
  {
   "cell_type": "markdown",
   "id": "a11d7cbf-f78d-4c2e-a9e5-f7e101fab875",
   "metadata": {},
   "source": [
    "<div style=\"text-align: center;\">\n",
    "  <img src=\"https://i.giphy.com/media/v1.Y2lkPTc5MGI3NjExb3YxYzVhbXJzajQwZnUyMGYwY2twZG02b2N2MGlhcGFqb3E5enljcSZlcD12MV9pbnRlcm5hbF9naWZfYnlfaWQmY3Q9Zw/9jwR2KCuAf8aIANOUr/giphy.gif\" alt=\"discoscope\">\n",
    "</div>"
   ]
  },
  {
   "attachments": {},
   "cell_type": "markdown",
   "id": "04caf1c1-c199-4739-b9fc-9ec5929ce5f5",
   "metadata": {},
   "source": [
    "<div style=\"text-align: center;\">\n",
    "  <img src=\"https://i.giphy.com/media/v1.Y2lkPTc5MGI3NjExMHRraWd5Ynh0ZXd2MDMzNHQyNjg1aDdtamYzOGdnNWJ5ZnA4dHpxZiZlcD12MV9pbnRlcm5hbF9naWZfYnlfaWQmY3Q9Zw/DlzkauL6oUw8jg8ny2/giphy.gif\" width=\"700\" alt=\"presentation\">\n",
    "</div>"
   ]
  },
  {
   "cell_type": "markdown",
   "id": "a8c99238-d139-4599-90e7-fc87587902bc",
   "metadata": {},
   "source": [
    "# 1. Installer et importer les bibliothèques nécéssaires #"
   ]
  },
  {
   "cell_type": "markdown",
   "id": "8f18ad90-967e-4a74-ab51-e5e6a53b4752",
   "metadata": {},
   "source": [
    "On va mettre à jour la fonction d'installation de python en fait pip "
   ]
  },
  {
   "cell_type": "code",
   "execution_count": null,
   "id": "8327354f-257a-4fab-a7b0-b13f83ff4c82",
   "metadata": {
    "scrolled": true
   },
   "outputs": [],
   "source": [
    "!python -m pip install --upgrade pip"
   ]
  },
  {
   "cell_type": "markdown",
   "id": "ca4580dc-9dd0-44d9-8aa9-f18d6584f51b",
   "metadata": {},
   "source": [
    "<font size=\"5\"> Installer la biblothèque OpenCV dans votre environnement.</font></p>\n",
    "OpenCV pour \"Open Computer Vision\" est une librairie open source, considérée comme l’outil standard pour la vision par ordinateur et le traitement d’images et utilisée pour le Deep Learning et la reconaissance de forme </p>\n",
    "Il faudra également stocker le dossier de travail dans une variable."
   ]
  },
  {
   "cell_type": "code",
   "execution_count": null,
   "id": "66046e52-46d3-4dd1-825d-4a6e9ca81fa2",
   "metadata": {
    "scrolled": true
   },
   "outputs": [],
   "source": [
    "!pip install opencv-python"
   ]
  },
  {
   "cell_type": "code",
   "execution_count": null,
   "id": "be1434fd-f480-400c-9f84-c24c88f57887",
   "metadata": {},
   "outputs": [],
   "source": [
    "# on va stocker le chemin du repertoire de travail dans la variable WORK_PATH\n",
    "WORK_PATH=%pwd\n",
    "print(WORK_PATH)\n",
    "#comme nous somme sur windows le chemin stocké est de forme : D:\\folder\\files\n",
    "#pour que cela fonctionne en python le chemin doit être de la forme D:/folder/files \n",
    "# pour cela on utilise la fonction replace\n",
    "WORK_PATH=WORK_PATH.replace(\"\\\\\",\"/\")\n",
    "print(WORK_PATH)"
   ]
  },
  {
   "cell_type": "markdown",
   "id": "82f1fc68-11a7-4eeb-bdf1-3ff1077390c3",
   "metadata": {},
   "source": [
    "#### on va programmer ensuite notre code python et importer les biliothèques nécéssaires"
   ]
  },
  {
   "cell_type": "code",
   "execution_count": null,
   "id": "e224851e-33f3-4ce9-aa76-ae4727fa2862",
   "metadata": {},
   "outputs": [],
   "source": [
    "# Import opencv\n",
    "import cv2 \n",
    "\n",
    "# on importe uuid pour Universal Unique Identifier, bibliothèque permettant d'assigner  un nombre de 128 bits  pour identifier individuellement \n",
    "# les données dans les systèmes informatiques dans notre cas les images que nous allons sauvegarder.\n",
    "import uuid\n",
    "\n",
    "# Import Operating System bibliothèque permettant d'interagir avec le système d'exploitation\n",
    "import os\n",
    "\n",
    "# Import time bibliothèque permettant la gestion du temps\n",
    "import time"
   ]
  },
  {
   "cell_type": "markdown",
   "id": "1129e64f-9587-4ac7-a13b-fa778de7b3e2",
   "metadata": {},
   "source": [
    "si L'OS importé est windows, alors la reponse sera \"nt\" </p>\n",
    "par contre si l'OS est du Lynux, alors la réponse sera \"posix\"</p>\n",
    "pour le savoir une fois la bibliothèque importée il suffit d'imprimer la réponse par os.name"
   ]
  },
  {
   "cell_type": "code",
   "execution_count": null,
   "id": "3ecf6b8e-1c7c-49a1-8ab8-bb618574efdf",
   "metadata": {},
   "outputs": [],
   "source": [
    "os.name"
   ]
  },
  {
   "cell_type": "markdown",
   "id": "5b6bced8-01ac-4524-97cf-fcd3137240bf",
   "metadata": {},
   "source": [
    "# 2. Définir les labels que l'on souhaite identifier "
   ]
  },
  {
   "cell_type": "code",
   "execution_count": null,
   "id": "f79bcac1-8995-434f-a60e-179956a6304f",
   "metadata": {},
   "outputs": [],
   "source": [
    "labels = ['droite', 'gauche', 'double']\n",
    "# on definit le nombre d'images que l'on souhaite prendre avec la webcam \n",
    "number_imgs = 20"
   ]
  },
  {
   "cell_type": "markdown",
   "id": "d407051d-70c5-4a0e-bad6-fc70dc22b8ff",
   "metadata": {},
   "source": [
    "# 3. Création des dossiers ou enregistrer les images de la webcam et/ou </br> le dossier ou copier les images dejà enregistrées par d'autres médias "
   ]
  },
  {
   "cell_type": "code",
   "execution_count": null,
   "id": "60ed7947-85d7-41ea-b3bd-f44ff27c203a",
   "metadata": {},
   "outputs": [],
   "source": [
    "#on creer le dossier images \n",
    "IMAGES_PATH = os.path.join(WORK_PATH,'images')\n",
    "IMAGES_PATH=IMAGES_PATH.replace(\"\\\\\",\"/\")\n",
    "#cette ligne n'est pas obligatoire. Dans le dossier images on créer un autre dossier img_others ou l'on viendra copier \n",
    "# les images que nous avons pris avec un autre périphérique que notre webcam \n",
    "IMAGES_OTHERS = os.path.join(IMAGES_PATH,'img_others')\n",
    "IMAGES_OTHERS=IMAGES_OTHERS.replace(\"\\\\\",\"/\")\n",
    "print(IMAGES_PATH)"
   ]
  },
  {
   "cell_type": "code",
   "execution_count": null,
   "id": "57dd002a-8e8c-45c1-ab49-eaebf2119925",
   "metadata": {},
   "outputs": [],
   "source": [
    "## si le dossiers n'existent pas\n",
    "if not os.path.exists(IMAGES_PATH):\n",
    "    \n",
    "    # si l'OS est Linux \n",
    "    if os.name == 'posix':\n",
    "        # on crée les dossiers Tensorflow , workspace, images, et collectedimages \n",
    "        !mkdir -p {IMAGES_PATH}\n",
    "        \n",
    "    #si l'OS est windows\n",
    "    if os.name == 'nt':\n",
    "        # on crée les dossiers Tensorflow , workspace, images, et collectedimages\n",
    "        !mkdir \"{IMAGES_PATH}\"\n",
    "        !mkdir \"{IMAGES_OTHERS}\"\n",
    "        \n",
    "# pour tous les labels que l'on a defini on crée les dossier au même nom \n",
    "for label in labels:\n",
    "    path = os.path.join(IMAGES_PATH, label)\n",
    "    if not os.path.exists(path):\n",
    "        !mkdir \"{path}\""
   ]
  },
  {
   "cell_type": "markdown",
   "id": "0a2e290b-e219-4842-a91d-8dfbd2a46fb2",
   "metadata": {},
   "source": [
    "# 4. Enregistrement des images "
   ]
  },
  {
   "cell_type": "markdown",
   "id": "14d2fed7-ca1a-4a4e-977f-ef181dde0aca",
   "metadata": {},
   "source": [
    "<font size=\"5\"> Nous allons enregistrer les images dans le ou les dossiers correpondant</font></p>"
   ]
  },
  {
   "cell_type": "markdown",
   "id": "5a1d77af-56d9-4111-a36e-f39e1aadd3c5",
   "metadata": {},
   "source": [
    "pour cela nous alons vous présenter deux méthodes : </p>\n",
    "4.1 A partir de capture d'image d'une webcam </p>\n",
    "4.2 A partir d'images déjà enregistrées par d'autres support (appareil photos, mobile, tabellette, etc..) </p>\n",
    "A vous de choisir les cellules que vous souhaitez lancer 4.1 ou 4.2"
   ]
  },
  {
   "cell_type": "markdown",
   "id": "57c01d0a-49f1-4555-9e05-dcedd8f05843",
   "metadata": {},
   "source": [
    "## 4.1 A partir de capture d'image par la webcam"
   ]
  },
  {
   "cell_type": "code",
   "execution_count": null,
   "id": "1dd6e262-c8f6-49d2-81c5-33e72fe65012",
   "metadata": {},
   "outputs": [],
   "source": [
    "# pour tous les labels que l'on a deffini \n",
    "for label in labels:\n",
    "    # on capture l'image de la webcam (en 0) en général si une seule webcam\n",
    "    cap = cv2.VideoCapture(0)\n",
    "    print('Collecting images for {}'.format(label))\n",
    "    # on attend 5 seconde avant de demarer\n",
    "    time.sleep(5)\n",
    "    # pour le nombre d'image à enregistrer que l'on a defini\n",
    "    for imgnum in range(number_imgs):\n",
    "        print('Collecting image {}'.format(imgnum))\n",
    "        # on lit l'image capturée par la webcam\n",
    "        ret, frame = cap.read()\n",
    "        # on flip l'image sur l'axe x pour avoir une image mirroir\n",
    "        flipimg=cv2.flip(frame,1)\n",
    "        # on défini une variable imgname qui portera un numéro uuid unique avec l'extention jpg\n",
    "        imgname = os.path.join(IMAGES_PATH,label,label+'.'+'{}.jpg'.format(str(uuid.uuid1())))\n",
    "        #on sauvegarde l'image capturée par la webcam avec comme nom le numéro UUID+jpg dans le dossier correspondant\n",
    "        cv2.imwrite(imgname, flipimg)\n",
    "        # on montre l'image à l'écran (attention très lent)\n",
    "        cv2.imshow('frame', flipimg)\n",
    "        time.sleep(2)\n",
    "        \n",
    "# si on appuie sur le boutton q du clavier on arrte le processus \n",
    "        if cv2.waitKey(1) & 0xFF == ord('q'):\n",
    "            break\n",
    "# on arrete la webcam et on ferme toutes les fenêtres             \n",
    "cap.release()\n",
    "cv2.destroyAllWindows()"
   ]
  },
  {
   "cell_type": "code",
   "execution_count": null,
   "id": "83cd6ad4-a2f8-4015-a910-3112be4cfc35",
   "metadata": {},
   "outputs": [],
   "source": [
    "# on importe la bibliothèque glob permettant la recherche de chemin \n",
    "import glob\n",
    "\n",
    "# pour tous les labels que l'on a deffini \n",
    "for label in labels:\n",
    "    path_sav = os.path.join(IMAGES_PATH,label)\n",
    "    for img in glob.glob(path_sav+\"/*.jpg\"):\n",
    "        # on lit l'image avec OPENCV\n",
    "        n=cv2.imread(img)\n",
    "        # # on défini une variable imgname qui portera un numéro uuid unique avec l'extention jpg\n",
    "        imgname = os.path.join(IMAGES_OTHERS,label+'.'+'{}.jpg'.format(str(uuid.uuid1())))\n",
    "        print(imgname)\n",
    "    #on sauvegarde l'image avec comme nom : Other.+ le numéro UUID+jpg dans le dossier selectionné\n",
    "        cv2.imwrite(imgname, n)\n",
    "print(\"Done\")\n",
    "        "
   ]
  },
  {
   "cell_type": "markdown",
   "id": "61030fb0-5a63-404b-b19d-307bddb18e15",
   "metadata": {},
   "source": [
    "## 4.2 A partir d'images déjà enregistrées par d'autres support et situées dans un autre dossier </br>(appareil photos, mobile, tablette, etc..)"
   ]
  },
  {
   "cell_type": "code",
   "execution_count": null,
   "id": "52ed552a-b4c8-435d-b5da-b5c661ab643a",
   "metadata": {
    "scrolled": true
   },
   "outputs": [],
   "source": [
    "# on installe la bibliothèque ipyfilechooser permettant dans jupyter notebook de choisir le dossier ou sont stocker les images \n",
    "# si elles ont été enregistrées avec un autre périphérique que la webcam !!! attention au même format que les images enregistrées \n",
    "# par la webcam à savoir 640x480\n",
    "!pip install ipyfilechooser==0.5.0"
   ]
  },
  {
   "cell_type": "code",
   "execution_count": null,
   "id": "78914706-f235-4f8a-a32d-a53935c0ed8f",
   "metadata": {},
   "outputs": [],
   "source": [
    "# on importe la bibliothèque ipyfilechooser\n",
    "from ipyfilechooser import FileChooser\n",
    "\n",
    "fc = FileChooser('')\n",
    "#on affiche dans jupyter notebook un bouton select\n",
    "#(appuyer dessus et choisir la première image du dossier ou sont contenu toutes vos images et cliquez sur change\n",
    "display(fc)"
   ]
  },
  {
   "cell_type": "code",
   "execution_count": null,
   "id": "e42c008c-7df0-42da-bfba-8cb5b42b6443",
   "metadata": {
    "scrolled": true
   },
   "outputs": [],
   "source": [
    "# on va renomer les images importés  avec un numéro unique en se servant openCV\n",
    "# on importe la bibliothèque glob permettant la recherche de chemin \n",
    "import glob\n",
    "\n",
    "# pour toutes les images du dossier selectionné dans la cellule précédente\n",
    "for img in glob.glob(fc.selected_path+\"/*.jpg\"):\n",
    "    # on lit l'image avec OPENCV\n",
    "    n=cv2.imread(img)\n",
    "    # # on défini une variable imgname qui portera un numéro uuid unique avec l'extention jpg \n",
    "    imgname = os.path.join(IMAGES_OTHERS+'/'+'Others.'+'{}.jpg'.format(str(uuid.uuid1())))\n",
    "     #on sauvegarde l'image avec comme nom : Other.+ le numéro UUID+jpg dans le dossier selectionné\n",
    "    cv2.imwrite(imgname, n)\n",
    "print(\"Done\")"
   ]
  },
  {
   "cell_type": "markdown",
   "id": "6a14aec7-6569-4dfe-98b8-cc3fe4fb2497",
   "metadata": {},
   "source": [
    "# 5. Annotations des images"
   ]
  },
  {
   "cell_type": "markdown",
   "id": "4418a161-f7b9-43db-be75-1e5a8c251f20",
   "metadata": {},
   "source": [
    "## 5.1 installation du logiciel LabelImg pour annoter les images"
   ]
  },
  {
   "cell_type": "code",
   "execution_count": null,
   "id": "ee3a0ccf-ff3f-4523-bc91-d8c2e23d90a3",
   "metadata": {},
   "outputs": [],
   "source": [
    "!pip install --upgrade pyqt5 lxml"
   ]
  },
  {
   "cell_type": "code",
   "execution_count": null,
   "id": "ed62634f-642d-48dd-b284-a5831e1f14c8",
   "metadata": {},
   "outputs": [],
   "source": [
    "LABELIMG_PATH = os.path.join('Label', 'labelimg')"
   ]
  },
  {
   "cell_type": "code",
   "execution_count": null,
   "id": "f2a71635-d092-4ea4-abad-bc35cdfdf83f",
   "metadata": {
    "scrolled": true
   },
   "outputs": [],
   "source": [
    "if not os.path.exists(LABELIMG_PATH):\n",
    "    !mkdir {LABELIMG_PATH}\n",
    "    !git clone https://github.com/tzutalin/labelImg {LABELIMG_PATH}"
   ]
  },
  {
   "cell_type": "code",
   "execution_count": null,
   "id": "cd1f6fa0-6148-42db-bec4-5ceb6035547e",
   "metadata": {},
   "outputs": [],
   "source": [
    "if os.name == 'posix':\n",
    "    !make qt5py3\n",
    "if os.name =='nt':\n",
    "    !cd {LABELIMG_PATH} && pyrcc5 -o libs/resources.py resources.qrc"
   ]
  },
  {
   "cell_type": "code",
   "execution_count": null,
   "id": "891da8a1-7e01-442b-b223-bb545241201f",
   "metadata": {
    "scrolled": true
   },
   "outputs": [],
   "source": [
    "!cd {LABELIMG_PATH} && python labelImg.py"
   ]
  },
  {
   "cell_type": "markdown",
   "id": "41cbcb69-11a9-4de7-8d64-0208573c912b",
   "metadata": {},
   "source": [
    "# 6. Mises en formes des images pour Tensorflow"
   ]
  },
  {
   "cell_type": "markdown",
   "id": "a59c8af2-5f5d-484a-8dea-82553acca3d0",
   "metadata": {},
   "source": [
    "## 6.1 Creation des dossiers pour Tensorflow"
   ]
  },
  {
   "cell_type": "markdown",
   "id": "35e39c9e-662c-49c9-bd2b-d00ee6d1bf2a",
   "metadata": {},
   "source": [
    "Une fois vos images annotées nous alons les préparées pour l'entraînement avec TensorFlow. </p> \n",
    "Pour cela nous devons créer 3 dossiers train, validation et test \n",
    "\n"
   ]
  },
  {
   "cell_type": "code",
   "execution_count": null,
   "id": "36685690-2590-474d-9b77-b4f27d4d710c",
   "metadata": {
    "scrolled": true
   },
   "outputs": [],
   "source": [
    "#on se positione dans le dossier images\n",
    "os.chdir (IMAGES_PATH)\n",
    "#on créer les 3 dossiers \n",
    "!mkdir train\n",
    "!mkdir validation\n",
    "!mkdir test"
   ]
  },
  {
   "cell_type": "markdown",
   "id": "d625d7b2-350c-4402-b34d-fc3f0d0456aa",
   "metadata": {},
   "source": [
    "## 6.2 Répartition aléatoire des images dans les dossiers pour Tensorflow"
   ]
  },
  {
   "cell_type": "markdown",
   "id": "115f1f60-fb3d-4011-bd49-f29b6a4569e8",
   "metadata": {},
   "source": [
    "nous allons ensuite diviser aléatoirement les images de chaque labels dans les dossiers train,  validation et  test. Voici à quoi sert chaque ensemble :\n",
    "\n",
    "* **Train** : Il s'agit des images utilisées pour entraîner le modèle. À chaque étape de l'entrainement, un lot d'images du jeu d'entrainement est tirées alléatoirement pour entrainer le réseau. Le réseau prédit les classes et les emplacements des objets dans les images. L'algorithme d'optimisation calcule la perte (c'est-à-dire le degré d'« erreur » des prédictions) et ajuste les poids du réseau par rétropropagation.\n",
    "\n",
    "* **Validation** : Les images du dossier validation peuvent être utilisées par l'algorithme d'apprentissage pour vérifier la progression de l'apprentissage et ajuster les hyperparamètres. Contrairement aux images du dossier train, ces images ne sont utilisées que périodiquement au cours de l'entrainement.\n",
    "\n",
    "* **Test** : Ces images ne sont jamais vues par le réseau pendant l'entrainement. Elles sont destinées à être utilisées par un humain pour effectuer un test final du modèle afin d'en vérifier la précision.\n",
    "\n",
    "Pour répartir aléatoirement les images de chaque dossier nous allons lancer le script suivant qui va déplacer aléatoirement :</p>\n",
    "80 % des images vers le dossier train</p> \n",
    "10 % vers le dossier validation</p> \n",
    "10 % vers le dossier test \n"
   ]
  },
  {
   "cell_type": "markdown",
   "id": "d05accab-bc06-41ba-9923-a1b1631dc63f",
   "metadata": {},
   "source": [
    "### 6.2.1 répartition des images des dossiers prise par la webcam "
   ]
  },
  {
   "cell_type": "code",
   "execution_count": null,
   "id": "509bdee8-24d0-47e6-9709-f7159cb35741",
   "metadata": {
    "scrolled": true
   },
   "outputs": [],
   "source": [
    "# on importe les biblothèques nécéssaires \n",
    "from pathlib import Path\n",
    "import random\n",
    "import os\n",
    "import sys\n",
    "import shutil\n",
    "\n",
    "# on crée une table vide pour stocker toutes les images\n",
    "all_images=[]\n",
    "\n",
    "# on stocke les chemin des autres dossiers dans le dossier images (train, validation, test, et img_others)\n",
    "train_path=os.path.join(IMAGES_PATH, 'train')\n",
    "val_path=os.path.join(IMAGES_PATH, 'validation')\n",
    "test_path =os.path.join(IMAGES_PATH, 'test')\n",
    "\n",
    "# Fonction pour copier les images dans le dossier cible\n",
    "def copy_images(image_list, target_folder):\n",
    "    for image in image_list:\n",
    "        name, ext = os.path.splitext(image) # on récupère le chemin et le nom de l'image sans son extention\n",
    "        shutil.copy(image, target_folder)  # on copie l'image dans le bon dossier\n",
    "        shutil.copy(name+\".xml\", target_folder) # on copie le fichier annotation .xml associé à l'image \n",
    "\n",
    "# Traiter chaque sous-dossier indépendamment\n",
    "for label in labels:\n",
    "    label_path = os.path.join(IMAGES_PATH, label)\n",
    "\n",
    "    # on prend la liste des toutes les images du dossier img_others contenant les extentions suivantes \n",
    "    jpeg_file_list_images = [os.path.join(label_path, filename) for filename in os.listdir(label_path) if filename.endswith('.jpeg')]\n",
    "    jpg_file_list_images = [os.path.join(label_path, filename) for filename in os.listdir(label_path) if filename.endswith('.jpg')]\n",
    "    png_file_list_images = [os.path.join(label_path, filename) for filename in os.listdir(label_path) if filename.endswith('.png')]\n",
    "    bmp_file_list_images = [os.path.join(label_path, filename) for filename in os.listdir(label_path) if filename.endswith('.bmp')]\n",
    "    \n",
    "    # Lister toutes les images du sous-dossier\n",
    "    all_images =jpeg_file_list_images+jpg_file_list_images+png_file_list_images+bmp_file_list_images\n",
    "\n",
    "    # Mélanger les images de manière aléatoire\n",
    "    random.shuffle(all_images)\n",
    "\n",
    "     # Calculer les indices de découpage pour 80%, 10%, 10%\n",
    "    train_size = round((0.8 * len(all_images)))\n",
    "    validation_size = round ((0.1 * len(all_images)))\n",
    "    \n",
    "\n",
    "    # Répartir les images\n",
    "    train_images = all_images[:train_size]\n",
    "    validation_images = all_images[train_size:train_size+validation_size]\n",
    "    test_images = all_images[train_size+validation_size:]\n",
    "\n",
    "     # Copier les images dans les dossiers appropriés\n",
    "    copy_images(train_images, train_path)\n",
    "    copy_images(validation_images, val_path)\n",
    "    copy_images(test_images, test_path)\n",
    "\n",
    "    print(f\"Transfert terminé pour {label} : {len(train_images)} images dans 'train', {len(validation_images)} dans 'validation', {len(test_images)} dans 'test'.\")\n",
    "\n",
    "\n",
    "    "
   ]
  },
  {
   "cell_type": "markdown",
   "id": "32efceb4-f411-4c41-a98a-8e2c2e469383",
   "metadata": {},
   "source": [
    "### 6.2.2 Répartition des images du dossier img_others "
   ]
  },
  {
   "cell_type": "markdown",
   "id": "1f7ffe21-6238-4ae6-85b0-955390cc2bdc",
   "metadata": {},
   "source": [
    "**le bloc de code ci dessous n'est obligatoire que si vous avez utilisé des images provonant d'autres source que la webcam.** </p> \n",
    "**Son execution n'est pas obligatoire si vous n'avez utilisé que la webcam**"
   ]
  },
  {
   "cell_type": "code",
   "execution_count": null,
   "id": "e6c5c7fe-bdb8-4405-b392-88c17a24ef09",
   "metadata": {},
   "outputs": [],
   "source": [
    "# on importe les biblothèques nécéssaires \n",
    "from pathlib import Path\n",
    "import random\n",
    "import os\n",
    "import sys\n",
    "import shutil\n",
    "\n",
    "# on crée une table vide pour stocker toutes les images\n",
    "all_images=[]\n",
    "\n",
    "# on stocke les chemin des autres dossiers dans le dossier images (train, validation, test, et img_others)\n",
    "img_others_path=IMAGES_OTHERS\n",
    "train_path=os.path.join(IMAGES_PATH, 'train')\n",
    "val_path=os.path.join(IMAGES_PATH, 'validation')\n",
    "test_path =os.path.join(IMAGES_PATH, 'test')\n",
    "\n",
    "# Fonction pour copier les images dans le dossier cible\n",
    "def copy_images(image_list, target_folder):\n",
    "    for image in image_list:\n",
    "        name, ext = os.path.splitext(image) # on récupère le chemin et le nom de l'image sans son extention\n",
    "        shutil.copy(image, target_folder)  # on copie l'image dans le bon dossier\n",
    "        shutil.copy(name+\".xml\", target_folder) # on copie le fichier annotation .xml associé à l'image \n",
    "\n",
    "# Traiter le dossier imgs_others\n",
    "\n",
    "\n",
    " # on prend la liste des toutes les images du dossier img_others contenant les extentions suivantes \n",
    "jpeg_file_list_others = [os.path.join(img_others_path, filename) for filename in os.listdir(img_others_path) if filename.endswith('.jpeg')]\n",
    "jpg_file_list_others = [os.path.join(img_others_path, filename) for filename in os.listdir(img_others_path) if filename.endswith('.jpg')]\n",
    "png_file_list_others = [os.path.join(img_others_path, filename) for filename in os.listdir(img_others_path) if filename.endswith('.png')]\n",
    "bmp_file_list_others = [os.path.join(img_others_path, filename) for filename in os.listdir(img_others_path) if filename.endswith('.bmp')]\n",
    "    \n",
    "# Lister toutes les images du sous-dossier\n",
    "all_images =jpeg_file_list_others+jpg_file_list_others+png_file_list_others+bmp_file_list_others\n",
    "\n",
    "# Mélanger les images de manière aléatoire\n",
    "random.shuffle(all_images)\n",
    "\n",
    "# Calculer les indices de découpage pour 80%, 10%, 10%\n",
    "train_size = round((0.8 * len(all_images)))\n",
    "validation_size = round ((0.1 * len(all_images)))\n",
    "    \n",
    "\n",
    " # Répartir les images\n",
    "train_images = all_images[:train_size]\n",
    "validation_images = all_images[train_size:train_size+validation_size]\n",
    "test_images = all_images[train_size+validation_size:]\n",
    "\n",
    "# Copier les images dans les dossiers appropriés\n",
    "copy_images(train_images, train_path)\n",
    "copy_images(validation_images, val_path)\n",
    "copy_images(test_images, test_path)\n",
    "\n",
    "print(f\"Transfert terminé pour {label} : {len(train_images)} images dans 'train', {len(validation_images)} dans 'validation', {len(test_images)} dans 'test'.\")\n",
    "\n",
    "\n",
    "    "
   ]
  },
  {
   "cell_type": "markdown",
   "id": "e02ec8e4-ed75-42d3-97d2-092296988614",
   "metadata": {},
   "source": [
    "# 7. Supprimer les fichiers et dossiers non nécéssaire à l'apprentissage "
   ]
  },
  {
   "cell_type": "markdown",
   "id": "5ddd2bb7-afe9-453d-b68b-887770346c8f",
   "metadata": {},
   "source": [
    "le bloc de code suivant permet de supprimer les dossier de vos label ainsi que le dossier img_others. </br>\n",
    "En effet Tensorflow a besoin d'avoir un dossier images contenant les sous dossier test, validation et train. </br>\n",
    "Maintenant que nous avons tout copier dans les bon dossier on supprime les anciens "
   ]
  },
  {
   "cell_type": "markdown",
   "id": "cf2849a5-5623-4e06-95f6-a92b697fb17b",
   "metadata": {},
   "source": [
    "## 7.1 Supprimer les dossiers des label (image de la webcam)"
   ]
  },
  {
   "cell_type": "code",
   "execution_count": null,
   "id": "b4018fb2-02f4-44e1-b944-7e06f0793308",
   "metadata": {},
   "outputs": [],
   "source": [
    "# Traiter chaque sous-dossier indépendamment\n",
    "for label in labels:\n",
    "    label_path = os.path.join(IMAGES_PATH, label)\n",
    "    shutil.rmtree(label_path)"
   ]
  },
  {
   "cell_type": "markdown",
   "id": "d7fcf92b-6e8e-4367-bbb0-26bf580f00ba",
   "metadata": {},
   "source": [
    "## 7.2 Supprimer le dossier img_others"
   ]
  },
  {
   "cell_type": "code",
   "execution_count": null,
   "id": "b9cf1874-04a9-48a9-ad19-143396e825c6",
   "metadata": {},
   "outputs": [],
   "source": [
    "# on stocke les chemin des autres dossiers dans le dossier images (train, validation, test, et img_others)\n",
    "img_others_path=IMAGES_OTHERS\n",
    "\n",
    "#on supprime le dossier et toutes les images \n",
    "shutil.rmtree(img_others_path)"
   ]
  },
  {
   "cell_type": "markdown",
   "id": "08e1f11a-ccbe-402b-8a31-aa32b13e5435",
   "metadata": {},
   "source": [
    "# 8. Retournez à l'onglet Home et lancer le notebook 2 pour l'entrainement"
   ]
  }
 ],
 "metadata": {
  "kernelspec": {
   "display_name": "tflite",
   "language": "python",
   "name": "tflite"
  },
  "language_info": {
   "codemirror_mode": {
    "name": "ipython",
    "version": 3
   },
   "file_extension": ".py",
   "mimetype": "text/x-python",
   "name": "python",
   "nbconvert_exporter": "python",
   "pygments_lexer": "ipython3",
   "version": "3.9.2"
  }
 },
 "nbformat": 4,
 "nbformat_minor": 5
}
