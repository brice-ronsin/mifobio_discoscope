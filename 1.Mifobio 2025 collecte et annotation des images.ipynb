{
 "cells": [
  {
   "cell_type": "markdown",
   "id": "a8c99238-d139-4599-90e7-fc87587902bc",
   "metadata": {},
   "source": [
    "# 1. Installer et importer les bibliothèques nécéssaires #"
   ]
  },
  {
   "cell_type": "markdown",
   "id": "ca4580dc-9dd0-44d9-8aa9-f18d6584f51b",
   "metadata": {},
   "source": [
    "<font size=\"5\"> Installer la biblothèque OpenCV dans votre environnement.</font></p>\n",
    "OpenCV pour \"Open Computer Vision\" est une librairie open source, considérée comme l’outil standard pour la vision par ordinateur et le traitement d’images et utilisée pour le Deep Learning et la reconaissance de forme "
   ]
  },
  {
   "cell_type": "code",
   "execution_count": 8,
   "id": "66046e52-46d3-4dd1-825d-4a6e9ca81fa2",
   "metadata": {},
   "outputs": [
    {
     "name": "stdout",
     "output_type": "stream",
     "text": [
      "Collecting opencv-python\n",
      "  Using cached opencv_python-4.10.0.84-cp37-abi3-win_amd64.whl (38.8 MB)\n",
      "Collecting numpy>=1.17.3\n",
      "  Using cached numpy-1.24.4-cp38-cp38-win_amd64.whl (14.9 MB)\n",
      "Installing collected packages: numpy, opencv-python\n",
      "Successfully installed numpy-1.24.4 opencv-python-4.10.0.84\n"
     ]
    }
   ],
   "source": [
    "!pip install opencv-python"
   ]
  },
  {
   "cell_type": "markdown",
   "id": "82f1fc68-11a7-4eeb-bdf1-3ff1077390c3",
   "metadata": {},
   "source": [
    "#### on va programmer ensuite notre code python et importer les biliothèques nécéssaires"
   ]
  },
  {
   "cell_type": "code",
   "execution_count": 1,
   "id": "e224851e-33f3-4ce9-aa76-ae4727fa2862",
   "metadata": {},
   "outputs": [],
   "source": [
    "# Import opencv\n",
    "import cv2 \n",
    "\n",
    "# Import uuid pour Universal Unique Identifier, bibliothèque permettant d'assigner  un nombre de 128 bits  pour identifier individuellement \n",
    "# les données dans les systèmes informatiques dans notre cas les images que nous allons sauvegarder.\n",
    "import uuid\n",
    "\n",
    "# Import Operating System bibliothèque permettant d'interagir avec le système d'exploitation\n",
    "import os\n",
    "\n",
    "# Import time bibliothèque permettant la gestion du temps\n",
    "import time"
   ]
  },
  {
   "cell_type": "markdown",
   "id": "1129e64f-9587-4ac7-a13b-fa778de7b3e2",
   "metadata": {},
   "source": [
    "si L'OS importé est windows, alors la reponse sera \"nt\" </p>\n",
    "par contre si l'OS est du Lynux, alors la réponse sera \"posix\"</p>\n",
    "pour le savoir une fois la bibliothèque importée il suffit d'imprimer la réponse par os.name"
   ]
  },
  {
   "cell_type": "code",
   "execution_count": 2,
   "id": "3ecf6b8e-1c7c-49a1-8ab8-bb618574efdf",
   "metadata": {},
   "outputs": [
    {
     "data": {
      "text/plain": [
       "'nt'"
      ]
     },
     "execution_count": 2,
     "metadata": {},
     "output_type": "execute_result"
    }
   ],
   "source": [
    "os.name"
   ]
  },
  {
   "cell_type": "markdown",
   "id": "5b6bced8-01ac-4524-97cf-fcd3137240bf",
   "metadata": {},
   "source": [
    "# 2. Définir les labels que l'on souhaite identifier "
   ]
  },
  {
   "cell_type": "code",
   "execution_count": 3,
   "id": "f79bcac1-8995-434f-a60e-179956a6304f",
   "metadata": {},
   "outputs": [],
   "source": [
    "labels = ['droite', 'gauche', 'double_f']\n",
    "# on definit le nombre d'images que l'on souhaite prendre avec la webcam \n",
    "number_imgs = 10"
   ]
  },
  {
   "cell_type": "markdown",
   "id": "d407051d-70c5-4a0e-bad6-fc70dc22b8ff",
   "metadata": {},
   "source": [
    "# 3. Création des dossiers ou enregistrer les images de la webcam et/ou </br> le dossier ou copier les images dejà enregistrées par d'autres médias "
   ]
  },
  {
   "cell_type": "code",
   "execution_count": 4,
   "id": "60ed7947-85d7-41ea-b3bd-f44ff27c203a",
   "metadata": {},
   "outputs": [],
   "source": [
    "IMAGES_PATH = os.path.join('Tensorflow', 'workspace', 'images', 'collectedimages')\n",
    "IMAGES_OTHERS = os.path.join(IMAGES_PATH,'img_others')"
   ]
  },
  {
   "cell_type": "code",
   "execution_count": 5,
   "id": "57dd002a-8e8c-45c1-ab49-eaebf2119925",
   "metadata": {},
   "outputs": [],
   "source": [
    "## si le dossiers n'existent pas\n",
    "if not os.path.exists(IMAGES_PATH):\n",
    "    \n",
    "    # si l'OS est Linux \n",
    "    if os.name == 'posix':\n",
    "        # on crée les dossiers Tensorflow , workspace, images, et collectedimages \n",
    "        !mkdir -p {IMAGES_PATH}\n",
    "        \n",
    "    #si l'OS est windows\n",
    "    if os.name == 'nt':\n",
    "        # on crée les dossiers Tensorflow , workspace, images, et collectedimages\n",
    "        !mkdir {IMAGES_PATH}\n",
    "        !mkdir {IMAGES_OTHERS}\n",
    "        \n",
    "# pour tous les labels que l'on a defini on crée les dossier au même nom \n",
    "for label in labels:\n",
    "    path = os.path.join(IMAGES_PATH, label)\n",
    "    if not os.path.exists(path):\n",
    "        !mkdir {path}"
   ]
  },
  {
   "cell_type": "code",
   "execution_count": 6,
   "id": "21d54b95-9048-4422-b554-712ed4030743",
   "metadata": {},
   "outputs": [
    {
     "name": "stdout",
     "output_type": "stream",
     "text": [
      "Tensorflow\\workspace\\images\\collectedimages\\img_others\n"
     ]
    }
   ],
   "source": [
    "print(IMAGES_OTHERS)"
   ]
  },
  {
   "cell_type": "markdown",
   "id": "0a2e290b-e219-4842-a91d-8dfbd2a46fb2",
   "metadata": {},
   "source": [
    "# 4. Enregistrement des images "
   ]
  },
  {
   "cell_type": "markdown",
   "id": "14d2fed7-ca1a-4a4e-977f-ef181dde0aca",
   "metadata": {},
   "source": [
    "<font size=\"5\"> Nous allons enregistrer les images dans le ou les dossiers correpondant</font></p>"
   ]
  },
  {
   "cell_type": "markdown",
   "id": "5a1d77af-56d9-4111-a36e-f39e1aadd3c5",
   "metadata": {},
   "source": [
    "pour cela nous alons vous présenter deux méthodes : </p>\n",
    "4.1 A partir de capture d'image d'une webcam </p>\n",
    "4.2 A partir d'images déjà enregistrées par d'autres support (appareil photos, mobile, tabellette, etc..) </p>\n",
    "A vous de choisir les cellules que vous souhaitez lancer 4.1 ou 4.2"
   ]
  },
  {
   "cell_type": "markdown",
   "id": "57c01d0a-49f1-4555-9e05-dcedd8f05843",
   "metadata": {},
   "source": [
    "## 4.1 A partir de capture d'image par la webcam"
   ]
  },
  {
   "cell_type": "code",
   "execution_count": 41,
   "id": "1dd6e262-c8f6-49d2-81c5-33e72fe65012",
   "metadata": {},
   "outputs": [
    {
     "name": "stdout",
     "output_type": "stream",
     "text": [
      "Collecting images for droite\n",
      "Collecting image 0\n",
      "Collecting image 1\n",
      "Collecting image 2\n",
      "Collecting image 3\n",
      "Collecting image 4\n",
      "Collecting image 5\n",
      "Collecting image 6\n",
      "Collecting image 7\n",
      "Collecting image 8\n",
      "Collecting image 9\n",
      "Collecting images for gauche\n",
      "Collecting image 0\n",
      "Collecting image 1\n",
      "Collecting image 2\n",
      "Collecting image 3\n",
      "Collecting image 4\n",
      "Collecting image 5\n",
      "Collecting image 6\n",
      "Collecting image 7\n",
      "Collecting image 8\n",
      "Collecting image 9\n",
      "Collecting images for double_f\n",
      "Collecting image 0\n",
      "Collecting image 1\n",
      "Collecting image 2\n",
      "Collecting image 3\n",
      "Collecting image 4\n",
      "Collecting image 5\n",
      "Collecting image 6\n",
      "Collecting image 7\n",
      "Collecting image 8\n",
      "Collecting image 9\n"
     ]
    }
   ],
   "source": [
    "# pour tous les labels que l'on a deffini \n",
    "for label in labels:\n",
    "    # on capture l'image de la webcam (en 0) en général si une seule webcam\n",
    "    cap = cv2.VideoCapture(0)\n",
    "    print('Collecting images for {}'.format(label))\n",
    "    # on attend 5 seconde avant de demarer\n",
    "    time.sleep(5)\n",
    "    # pour le nombre d'image à enregistrer que l'on a defini\n",
    "    for imgnum in range(number_imgs):\n",
    "        print('Collecting image {}'.format(imgnum))\n",
    "        # on lit l'image capturée par la webcam\n",
    "        ret, frame = cap.read()\n",
    "        # on flip l'image sur l'axe x pour avoir une image mirroir\n",
    "        flipimg=cv2.flip(frame,1)\n",
    "        # on défini une variable imgname qui portera un numéro uuid unique avec l'extention jpg\n",
    "        imgname = os.path.join(IMAGES_PATH,label,label+'.'+'{}.jpg'.format(str(uuid.uuid1())))\n",
    "        #on sauvegarde l'image capturée par la webcam avec comme nom le numéro UUID+jpg dans le dossier correspondant\n",
    "        cv2.imwrite(imgname, flipimg)\n",
    "        # on montre l'image à l'écran (attention très lent)\n",
    "        cv2.imshow('frame', flipimg)\n",
    "        time.sleep(2)\n",
    "        \n",
    "# si on appuie sur le boutton q du clavier on arrte le processus \n",
    "        if cv2.waitKey(1) & 0xFF == ord('q'):\n",
    "            break\n",
    "# on arrete la webcam et on ferme toutes les fenêtres             \n",
    "cap.release()\n",
    "cv2.destroyAllWindows()"
   ]
  },
  {
   "cell_type": "markdown",
   "id": "8eaa1081-1faa-45bd-9076-c7f123c82e17",
   "metadata": {},
   "source": []
  },
  {
   "cell_type": "code",
   "execution_count": 7,
   "id": "83cd6ad4-a2f8-4015-a910-3112be4cfc35",
   "metadata": {},
   "outputs": [
    {
     "name": "stdout",
     "output_type": "stream",
     "text": [
      "Tensorflow\\workspace\\images\\collectedimages\\img_others\\droite.e9a8185c-797b-11ef-b15f-cc96e51c3d81.jpg\n",
      "Tensorflow\\workspace\\images\\collectedimages\\img_others\\droite.e9a9e26c-797b-11ef-b439-cc96e51c3d81.jpg\n",
      "Tensorflow\\workspace\\images\\collectedimages\\img_others\\droite.e9aadb62-797b-11ef-8ca3-cc96e51c3d81.jpg\n",
      "Tensorflow\\workspace\\images\\collectedimages\\img_others\\droite.e9ac7707-797b-11ef-84e4-cc96e51c3d81.jpg\n",
      "Tensorflow\\workspace\\images\\collectedimages\\img_others\\droite.e9acb514-797b-11ef-b423-cc96e51c3d81.jpg\n",
      "Tensorflow\\workspace\\images\\collectedimages\\img_others\\droite.e9af1034-797b-11ef-a31e-cc96e51c3d81.jpg\n",
      "Tensorflow\\workspace\\images\\collectedimages\\img_others\\droite.e9af1035-797b-11ef-a6ce-cc96e51c3d81.jpg\n",
      "Tensorflow\\workspace\\images\\collectedimages\\img_others\\droite.e9b19cd1-797b-11ef-bf47-cc96e51c3d81.jpg\n",
      "Tensorflow\\workspace\\images\\collectedimages\\img_others\\droite.e9b1c958-797b-11ef-b55c-cc96e51c3d81.jpg\n",
      "Tensorflow\\workspace\\images\\collectedimages\\img_others\\droite.e9b41d6a-797b-11ef-9f78-cc96e51c3d81.jpg\n",
      "Tensorflow\\workspace\\images\\collectedimages\\img_others\\droite.e9b57bf0-797b-11ef-b8ab-cc96e51c3d81.jpg\n",
      "Tensorflow\\workspace\\images\\collectedimages\\img_others\\droite.e9b6b325-797b-11ef-b303-cc96e51c3d81.jpg\n",
      "Tensorflow\\workspace\\images\\collectedimages\\img_others\\droite.e9b7ea9f-797b-11ef-a72b-cc96e51c3d81.jpg\n",
      "Tensorflow\\workspace\\images\\collectedimages\\img_others\\droite.e9b92d46-797b-11ef-a596-cc96e51c3d81.jpg\n",
      "Tensorflow\\workspace\\images\\collectedimages\\img_others\\droite.e9ba2e6c-797b-11ef-a579-cc96e51c3d81.jpg\n",
      "Tensorflow\\workspace\\images\\collectedimages\\img_others\\droite.e9bb9095-797b-11ef-b6bc-cc96e51c3d81.jpg\n",
      "Tensorflow\\workspace\\images\\collectedimages\\img_others\\droite.e9bb9096-797b-11ef-9a5e-cc96e51c3d81.jpg\n",
      "Tensorflow\\workspace\\images\\collectedimages\\img_others\\droite.e9bdf556-797b-11ef-adca-cc96e51c3d81.jpg\n",
      "Tensorflow\\workspace\\images\\collectedimages\\img_others\\droite.e9bdf557-797b-11ef-be47-cc96e51c3d81.jpg\n",
      "Tensorflow\\workspace\\images\\collectedimages\\img_others\\droite.e9c05797-797b-11ef-8a08-cc96e51c3d81.jpg\n",
      "Tensorflow\\workspace\\images\\collectedimages\\img_others\\gauche.e9c05798-797b-11ef-b767-cc96e51c3d81.jpg\n",
      "Tensorflow\\workspace\\images\\collectedimages\\img_others\\gauche.e9c2ba03-797b-11ef-895b-cc96e51c3d81.jpg\n",
      "Tensorflow\\workspace\\images\\collectedimages\\img_others\\gauche.e9c2ba04-797b-11ef-b804-cc96e51c3d81.jpg\n",
      "Tensorflow\\workspace\\images\\collectedimages\\img_others\\gauche.e9c51c7d-797b-11ef-a9dc-cc96e51c3d81.jpg\n",
      "Tensorflow\\workspace\\images\\collectedimages\\img_others\\gauche.e9c51c7e-797b-11ef-a1ca-cc96e51c3d81.jpg\n",
      "Tensorflow\\workspace\\images\\collectedimages\\img_others\\gauche.e9c77f18-797b-11ef-98d7-cc96e51c3d81.jpg\n",
      "Tensorflow\\workspace\\images\\collectedimages\\img_others\\gauche.e9c9005b-797b-11ef-9554-cc96e51c3d81.jpg\n",
      "Tensorflow\\workspace\\images\\collectedimages\\img_others\\gauche.e9ca3fbe-797b-11ef-bb5c-cc96e51c3d81.jpg\n",
      "Tensorflow\\workspace\\images\\collectedimages\\img_others\\gauche.e9cb8401-797b-11ef-bf78-cc96e51c3d81.jpg\n",
      "Tensorflow\\workspace\\images\\collectedimages\\img_others\\gauche.e9cc5f0d-797b-11ef-b219-cc96e51c3d81.jpg\n",
      "Tensorflow\\workspace\\images\\collectedimages\\img_others\\double_f.e9ce3abb-797b-11ef-8162-cc96e51c3d81.jpg\n",
      "Tensorflow\\workspace\\images\\collectedimages\\img_others\\double_f.e9cf71e0-797b-11ef-b941-cc96e51c3d81.jpg\n",
      "Tensorflow\\workspace\\images\\collectedimages\\img_others\\double_f.e9d0b5e9-797b-11ef-a17e-cc96e51c3d81.jpg\n",
      "Tensorflow\\workspace\\images\\collectedimages\\img_others\\double_f.e9d1ed0d-797b-11ef-8a1c-cc96e51c3d81.jpg\n",
      "Tensorflow\\workspace\\images\\collectedimages\\img_others\\double_f.e9d32e66-797b-11ef-82f1-cc96e51c3d81.jpg\n",
      "Tensorflow\\workspace\\images\\collectedimages\\img_others\\double_f.e9d46595-797b-11ef-9bc6-cc96e51c3d81.jpg\n",
      "Tensorflow\\workspace\\images\\collectedimages\\img_others\\double_f.e9d5a938-797b-11ef-b250-cc96e51c3d81.jpg\n",
      "Tensorflow\\workspace\\images\\collectedimages\\img_others\\double_f.e9d6e0b5-797b-11ef-a90f-cc96e51c3d81.jpg\n",
      "Tensorflow\\workspace\\images\\collectedimages\\img_others\\double_f.e9d82a81-797b-11ef-94f4-cc96e51c3d81.jpg\n",
      "Tensorflow\\workspace\\images\\collectedimages\\img_others\\double_f.e9d97884-797b-11ef-a7cd-cc96e51c3d81.jpg\n",
      "Done\n"
     ]
    }
   ],
   "source": [
    "# on importe la bibliothèque glob permettant la recherche de chemin \n",
    "import glob\n",
    "\n",
    "# pour tous les labels que l'on a deffini \n",
    "for label in labels:\n",
    "    path_sav = os.path.join(IMAGES_PATH,label)\n",
    "    for img in glob.glob(path_sav+\"/*.jpg\"):\n",
    "        # on lit l'image avec OPENCV\n",
    "        n=cv2.imread(img)\n",
    "        # # on défini une variable imgname qui portera un numéro uuid unique avec l'extention jpg\n",
    "        imgname = os.path.join(IMAGES_OTHERS,label+'.'+'{}.jpg'.format(str(uuid.uuid1())))\n",
    "        print(imgname)\n",
    "    #on sauvegarde l'image avec comme nom : Other.+ le numéro UUID+jpg dans le dossier selectionné\n",
    "        cv2.imwrite(imgname, n)\n",
    "print(\"Done\")\n",
    "        "
   ]
  },
  {
   "cell_type": "markdown",
   "id": "61030fb0-5a63-404b-b19d-307bddb18e15",
   "metadata": {},
   "source": [
    "## 4.2 A partir d'images déjà enregistrées par d'autres support </br>(appareil photos, mobile, tablette, etc..)"
   ]
  },
  {
   "cell_type": "code",
   "execution_count": 8,
   "id": "52ed552a-b4c8-435d-b5da-b5c661ab643a",
   "metadata": {
    "scrolled": true
   },
   "outputs": [
    {
     "name": "stdout",
     "output_type": "stream",
     "text": [
      "Requirement already satisfied: ipyfilechooser==0.5.0 in d:\\discoscope\\tfodcourse\\tfod\\lib\\site-packages (0.5.0)\n",
      "Requirement already satisfied: ipywidgets in d:\\discoscope\\tfodcourse\\tfod\\lib\\site-packages (from ipyfilechooser==0.5.0) (8.1.5)\n",
      "Requirement already satisfied: comm>=0.1.3 in d:\\discoscope\\tfodcourse\\tfod\\lib\\site-packages (from ipywidgets->ipyfilechooser==0.5.0) (0.2.2)\n",
      "Requirement already satisfied: jupyterlab-widgets~=3.0.12 in d:\\discoscope\\tfodcourse\\tfod\\lib\\site-packages (from ipywidgets->ipyfilechooser==0.5.0) (3.0.13)\n",
      "Requirement already satisfied: traitlets>=4.3.1 in d:\\discoscope\\tfodcourse\\tfod\\lib\\site-packages (from ipywidgets->ipyfilechooser==0.5.0) (5.14.3)\n",
      "Requirement already satisfied: widgetsnbextension~=4.0.12 in d:\\discoscope\\tfodcourse\\tfod\\lib\\site-packages (from ipywidgets->ipyfilechooser==0.5.0) (4.0.13)\n",
      "Requirement already satisfied: ipython>=6.1.0 in d:\\discoscope\\tfodcourse\\tfod\\lib\\site-packages (from ipywidgets->ipyfilechooser==0.5.0) (8.12.3)\n",
      "Requirement already satisfied: matplotlib-inline in d:\\discoscope\\tfodcourse\\tfod\\lib\\site-packages (from ipython>=6.1.0->ipywidgets->ipyfilechooser==0.5.0) (0.1.7)\n",
      "Requirement already satisfied: typing-extensions in d:\\discoscope\\tfodcourse\\tfod\\lib\\site-packages (from ipython>=6.1.0->ipywidgets->ipyfilechooser==0.5.0) (4.12.2)\n",
      "Requirement already satisfied: jedi>=0.16 in d:\\discoscope\\tfodcourse\\tfod\\lib\\site-packages (from ipython>=6.1.0->ipywidgets->ipyfilechooser==0.5.0) (0.19.1)\n",
      "Requirement already satisfied: backcall in d:\\discoscope\\tfodcourse\\tfod\\lib\\site-packages (from ipython>=6.1.0->ipywidgets->ipyfilechooser==0.5.0) (0.2.0)\n",
      "Requirement already satisfied: pygments>=2.4.0 in d:\\discoscope\\tfodcourse\\tfod\\lib\\site-packages (from ipython>=6.1.0->ipywidgets->ipyfilechooser==0.5.0) (2.18.0)\n",
      "Requirement already satisfied: prompt-toolkit!=3.0.37,<3.1.0,>=3.0.30 in d:\\discoscope\\tfodcourse\\tfod\\lib\\site-packages (from ipython>=6.1.0->ipywidgets->ipyfilechooser==0.5.0) (3.0.47)\n",
      "Requirement already satisfied: pickleshare in d:\\discoscope\\tfodcourse\\tfod\\lib\\site-packages (from ipython>=6.1.0->ipywidgets->ipyfilechooser==0.5.0) (0.7.5)\n",
      "Requirement already satisfied: stack-data in d:\\discoscope\\tfodcourse\\tfod\\lib\\site-packages (from ipython>=6.1.0->ipywidgets->ipyfilechooser==0.5.0) (0.6.3)\n",
      "Requirement already satisfied: colorama in d:\\discoscope\\tfodcourse\\tfod\\lib\\site-packages (from ipython>=6.1.0->ipywidgets->ipyfilechooser==0.5.0) (0.4.6)\n",
      "Requirement already satisfied: decorator in d:\\discoscope\\tfodcourse\\tfod\\lib\\site-packages (from ipython>=6.1.0->ipywidgets->ipyfilechooser==0.5.0) (5.1.1)\n",
      "Requirement already satisfied: parso<0.9.0,>=0.8.3 in d:\\discoscope\\tfodcourse\\tfod\\lib\\site-packages (from jedi>=0.16->ipython>=6.1.0->ipywidgets->ipyfilechooser==0.5.0) (0.8.4)\n",
      "Requirement already satisfied: wcwidth in d:\\discoscope\\tfodcourse\\tfod\\lib\\site-packages (from prompt-toolkit!=3.0.37,<3.1.0,>=3.0.30->ipython>=6.1.0->ipywidgets->ipyfilechooser==0.5.0) (0.2.13)\n",
      "Requirement already satisfied: asttokens>=2.1.0 in d:\\discoscope\\tfodcourse\\tfod\\lib\\site-packages (from stack-data->ipython>=6.1.0->ipywidgets->ipyfilechooser==0.5.0) (2.4.1)\n",
      "Requirement already satisfied: pure-eval in d:\\discoscope\\tfodcourse\\tfod\\lib\\site-packages (from stack-data->ipython>=6.1.0->ipywidgets->ipyfilechooser==0.5.0) (0.2.3)\n",
      "Requirement already satisfied: executing>=1.2.0 in d:\\discoscope\\tfodcourse\\tfod\\lib\\site-packages (from stack-data->ipython>=6.1.0->ipywidgets->ipyfilechooser==0.5.0) (2.1.0)\n",
      "Requirement already satisfied: six>=1.12.0 in d:\\discoscope\\tfodcourse\\tfod\\lib\\site-packages (from asttokens>=2.1.0->stack-data->ipython>=6.1.0->ipywidgets->ipyfilechooser==0.5.0) (1.16.0)\n"
     ]
    }
   ],
   "source": [
    "# on installe la bibliothèque ipyfilechooser permettant dans jupyter notebook de choisir le dossier ou sont stocker les images \n",
    "# si elles ont été enregistrées avec un autre périphérique que la webcam !!! attention au même format que les images enregistrées \n",
    "# par la webcam à savoir 640x480\n",
    "!pip install ipyfilechooser==0.5.0"
   ]
  },
  {
   "cell_type": "code",
   "execution_count": 9,
   "id": "78914706-f235-4f8a-a32d-a53935c0ed8f",
   "metadata": {},
   "outputs": [
    {
     "data": {
      "application/vnd.jupyter.widget-view+json": {
       "model_id": "fbda67ae6acc4394a249287964114182",
       "version_major": 2,
       "version_minor": 0
      },
      "text/plain": [
       "FileChooser(path='.', filename='', title='HTML(value='', layout=Layout(display='none'))', show_hidden='False',…"
      ]
     },
     "metadata": {},
     "output_type": "display_data"
    }
   ],
   "source": [
    "# on importe la bibliothèque ipyfilechooser\n",
    "from ipyfilechooser import FileChooser\n",
    "\n",
    "fc = FileChooser('')\n",
    "#on affiche dans jupyter notebook un bouton change \n",
    "#(appuyer dessus et choisir la première image du dossier ou sont contenu toutes vos images et cliquez sur change\n",
    "display(fc)"
   ]
  },
  {
   "cell_type": "code",
   "execution_count": 12,
   "id": "e42c008c-7df0-42da-bfba-8cb5b42b6443",
   "metadata": {},
   "outputs": [
    {
     "name": "stdout",
     "output_type": "stream",
     "text": [
      "Done\n"
     ]
    }
   ],
   "source": [
    "# on importe la bibliothèque glob permettant la recherche de chemin \n",
    "import glob\n",
    "\n",
    "# pour toutes les images du dossier selectionné dans la cellule précédente\n",
    "for img in glob.glob(fc.selected_path+\"/*.jpg\"):\n",
    "    # on lit l'image avec OPENCV\n",
    "    n=cv2.imread(img)\n",
    "    # # on défini une variable imgname qui portera un numéro uuid unique avec l'extention jpg \n",
    "    imgname = os.path.join(IMAGES_OTHERS+'/'+'Others.'+'{}.jpg'.format(str(uuid.uuid1())))\n",
    "     #on sauvegarde l'image avec comme nom : Other.+ le numéro UUID+jpg dans le dossier selectionné\n",
    "    cv2.imwrite(imgname, n)\n",
    "print(\"Done\")"
   ]
  },
  {
   "cell_type": "markdown",
   "id": "6a14aec7-6569-4dfe-98b8-cc3fe4fb2497",
   "metadata": {},
   "source": [
    "# 5. Annotations des images"
   ]
  },
  {
   "cell_type": "code",
   "execution_count": 8,
   "id": "ee3a0ccf-ff3f-4523-bc91-d8c2e23d90a3",
   "metadata": {},
   "outputs": [
    {
     "name": "stdout",
     "output_type": "stream",
     "text": [
      "Requirement already satisfied: pyqt5 in d:\\discoscope\\tfodcourse\\tfod\\lib\\site-packages (5.15.11)\n",
      "Collecting pyqt5\n",
      "  Using cached PyQt5-5.15.11-cp38-abi3-win_amd64.whl (6.9 MB)\n",
      "  Using cached PyQt5-5.15.10-cp37-abi3-win_amd64.whl (6.8 MB)\n",
      "Requirement already satisfied: lxml in d:\\discoscope\\tfodcourse\\tfod\\lib\\site-packages (5.3.0)\n",
      "Collecting lxml\n",
      "  Using cached lxml-5.3.0-cp38-cp38-win_amd64.whl (3.8 MB)\n",
      "  Using cached lxml-5.2.2-cp38-cp38-win_amd64.whl (3.8 MB)\n",
      "Requirement already satisfied: PyQt5-sip<13,>=12.15 in d:\\discoscope\\tfodcourse\\tfod\\lib\\site-packages (from pyqt5) (12.15.0)\n",
      "Requirement already satisfied: PyQt5-Qt5<5.16.0,>=5.15.2 in d:\\discoscope\\tfodcourse\\tfod\\lib\\site-packages (from pyqt5) (5.15.2)\n"
     ]
    }
   ],
   "source": [
    "!pip install --upgrade pyqt5 lxml"
   ]
  },
  {
   "cell_type": "code",
   "execution_count": 9,
   "id": "ed62634f-642d-48dd-b284-a5831e1f14c8",
   "metadata": {},
   "outputs": [],
   "source": [
    "LABELIMG_PATH = os.path.join('Tensorflow', 'labelimg')"
   ]
  },
  {
   "cell_type": "code",
   "execution_count": 10,
   "id": "f2a71635-d092-4ea4-abad-bc35cdfdf83f",
   "metadata": {},
   "outputs": [],
   "source": [
    "if not os.path.exists(LABELIMG_PATH):\n",
    "    !mkdir {LABELIMG_PATH}\n",
    "    !git clone https://github.com/tzutalin/labelImg {LABELIMG_PATH}"
   ]
  },
  {
   "cell_type": "code",
   "execution_count": 11,
   "id": "cd1f6fa0-6148-42db-bec4-5ceb6035547e",
   "metadata": {},
   "outputs": [],
   "source": [
    "if os.name == 'posix':\n",
    "    !make qt5py3\n",
    "if os.name =='nt':\n",
    "    !cd {LABELIMG_PATH} && pyrcc5 -o libs/resources.py resources.qrc"
   ]
  },
  {
   "cell_type": "code",
   "execution_count": null,
   "id": "891da8a1-7e01-442b-b223-bb545241201f",
   "metadata": {},
   "outputs": [],
   "source": [
    "!cd {LABELIMG_PATH} && python labelImg.py"
   ]
  },
  {
   "cell_type": "code",
   "execution_count": null,
   "id": "12a36359-9f19-4719-b139-66f38868a5af",
   "metadata": {},
   "outputs": [],
   "source": []
  }
 ],
 "metadata": {
  "kernelspec": {
   "display_name": "tflite",
   "language": "python",
   "name": "tflite"
  },
  "language_info": {
   "codemirror_mode": {
    "name": "ipython",
    "version": 3
   },
   "file_extension": ".py",
   "mimetype": "text/x-python",
   "name": "python",
   "nbconvert_exporter": "python",
   "pygments_lexer": "ipython3",
   "version": "3.9.2"
  }
 },
 "nbformat": 4,
 "nbformat_minor": 5
}
